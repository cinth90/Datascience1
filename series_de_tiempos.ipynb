{
  "nbformat": 4,
  "nbformat_minor": 0,
  "metadata": {
    "colab": {
      "provenance": [],
      "authorship_tag": "ABX9TyNAoMPk3sq2A+H7MvdaMYri",
      "include_colab_link": true
    },
    "kernelspec": {
      "name": "python3",
      "display_name": "Python 3"
    },
    "language_info": {
      "name": "python"
    }
  },
  "cells": [
    {
      "cell_type": "markdown",
      "metadata": {
        "id": "view-in-github",
        "colab_type": "text"
      },
      "source": [
        "<a href=\"https://colab.research.google.com/github/cinth90/Datascience1/blob/main/series_de_tiempos.ipynb\" target=\"_parent\"><img src=\"https://colab.research.google.com/assets/colab-badge.svg\" alt=\"Open In Colab\"/></a>"
      ]
    },
    {
      "cell_type": "markdown",
      "source": [
        " #Series de Tiempo:\n",
        "es una secuencia de datos recolectados o registrados en intervalos de tiempo sucesivos. Estos datos pueden representar la evolución de una variable a lo largo del tiempo, como el precio de una acción, la temperatura diaria, o las ventas mensuales de una empresa. Permite a los analistas entender patrones pasados, identificar tendencias, hacer predicciones futuras, y tomar decisiones informadas. Las series de tiempo pueden ayudar a descomponer datos en componentes como tendencia, estacionalidad y ruido, proporcionando una visión más clara de los fenómenos observados.\n",
        "\n",
        "Por ejemplo, una empresa puede analizar sus ventas mensuales a lo largo de los años para detectar patrones estacionales y ajustar sus estrategias de marketing en consecuencia. En finanzas, el análisis de series de tiempo es fundamental para modelar y prever el comportamiento de los mercados."
      ],
      "metadata": {
        "id": "zWuXF3v0NziX"
      }
    },
    {
      "cell_type": "markdown",
      "source": [
        "Pandas facilita significativamente el manejo de series de tiempo. Con Pandas, puedes crear, manipular y analizar series de tiempo de manera eficiente. Algunas de las capacidades clave que ofrece Pandas incluyen:\n",
        "\n",
        "**Conversión de datos a objetos de tiempo:** Pandas permite convertir datos como fechas en objetos Datetime, lo que facilita la manipulación de series de tiempo.\n",
        "\n",
        "**Resampling**: Cambiar la frecuencia de los datos, como convertir datos diarios en mensuales, es una tarea sencilla con Pandas.\n",
        "\n",
        "**Indexación y selección de datos:** Puedes indexar series de tiempo utilizando fechas y seleccionar datos específicos basados en intervalos de tiempo, lo que simplifica el análisis temporal.\n",
        "\n",
        "**Operaciones aritméticas y agregaciones**: Pandas permite realizar operaciones aritméticas directamente sobre series de tiempo y aplicar funciones de agregación como suma, media o mediana en períodos específicos.\n",
        "\n",
        "**Manejo de datos ausentes:** En series de tiempo, es común encontrar datos faltantes. Pandas proporciona métodos eficientes para manejar estos valores ausentes, como el relleno hacia adelante o hacia atrás (forward fill y backward fill)."
      ],
      "metadata": {
        "id": "fOlTxn2ePAWl"
      }
    },
    {
      "cell_type": "markdown",
      "source": [
        "#Tipos de Datos de Tiempo en Pandas\n",
        "*Conceptos Clave*\n",
        "\n",
        "**Punto en el tiempo (Timestamp)**: Un momento específico en el tiempo, como \"15 de mayo de 2024 a las 10:00 AM\". Es el tipo de dato fundamental para representar una fecha y hora exactas. Cuando usas muchos de estos en un índice de un DataFrame, se convierte en un DatetimeIndex.\n",
        "\n",
        "**Período (Period):** Un intervalo de tiempo fijo, como \"el mes de mayo de 2024\" o \"el tercer trimestre\". A diferencia de un Timestamp, no es un momento exacto, sino un rango de tiempo bien definido. Su índice correspondiente es un PeriodIndex.\n",
        "\n",
        "**Duración (Timedelta):** La diferencia entre dos puntos en el tiempo, como \"3 días y 5 horas\". Es el resultado de restar dos Timestamps y representa una cantidad de tiempo. Su índice es el TimedeltaIndex.\n",
        "\n",
        "En resumen, piensa en:\n",
        "\n",
        "**Timestamp:** ¿Cuándo ocurrió algo?\n",
        "\n",
        "**Period:** ¿En qué intervalo de tiempo?\n",
        "\n",
        "**Timedelta:** ¿Cuánto tiempo duró?"
      ],
      "metadata": {
        "id": "E-IfAMbnPMyl"
      }
    },
    {
      "cell_type": "markdown",
      "source": [
        "Conversión de datos a objetos de tiempo (ejemplo):"
      ],
      "metadata": {
        "id": "tXpam9eRQciS"
      }
    },
    {
      "cell_type": "code",
      "execution_count": 1,
      "metadata": {
        "colab": {
          "base_uri": "https://localhost:8080/"
        },
        "id": "HWhi_UIAMhAS",
        "outputId": "9a50781f-b045-475f-c300-534d5571d353"
      },
      "outputs": [
        {
          "output_type": "stream",
          "name": "stdout",
          "text": [
            "DataFrame Original:\n",
            "  fecha_evento\n",
            "0   2023-01-15\n",
            "1   2023-02-20\n",
            "2   2023-03-25\n",
            "\n",
            "Tipo de dato de la columna \"fecha_evento\":\n",
            "object\n",
            "\n",
            "DataFrame después de la conversión:\n",
            "  fecha_evento fecha_evento_dt\n",
            "0   2023-01-15      2023-01-15\n",
            "1   2023-02-20      2023-02-20\n",
            "2   2023-03-25      2023-03-25\n",
            "\n",
            "Tipo de dato de la nueva columna \"fecha_evento_dt\":\n",
            "datetime64[ns]\n"
          ]
        }
      ],
      "source": [
        "import pandas as pd\n",
        "\n",
        "# 1. Crear un DataFrame con una columna de fechas como texto\n",
        "data = {\n",
        "    'fecha_evento': ['2023-01-15', '2023-02-20', '2023-03-25']\n",
        "}\n",
        "df = pd.DataFrame(data)\n",
        "\n",
        "print('DataFrame Original:')\n",
        "print(df)\n",
        "print('\\nTipo de dato de la columna \"fecha_evento\":')\n",
        "print(df['fecha_evento'].dtype)\n",
        "\n",
        "# 2. Convertir la columna de texto a formato de fecha y hora\n",
        "df['fecha_evento_dt'] = pd.to_datetime(df['fecha_evento']) #analiza cadenas de texto que representan fechas y horas\n",
        "#y las convierte en un formato especial de pandas llamado datetime64[ns].\n",
        "\n",
        "print('\\nDataFrame después de la conversión:')\n",
        "print(df)\n",
        "print('\\nTipo de dato de la nueva columna \"fecha_evento_dt\":')\n",
        "print(df['fecha_evento_dt'].dtype)"
      ]
    },
    {
      "cell_type": "markdown",
      "source": [
        "#Resampling (ejemplo)"
      ],
      "metadata": {
        "id": "KY8Sm7jIRUOS"
      }
    },
    {
      "cell_type": "code",
      "source": [
        "import pandas as pd\n",
        "import numpy as np\n",
        "\n",
        "# 1. Crear un DataFrame con datos diarios\n",
        "rng = pd.date_range('2023-01-01', periods=90, freq='D') # 1 de enero al 31 de marzo\n",
        "df_diario = pd.DataFrame({\n",
        "    'fecha': rng,\n",
        "    'ventas': np.random.randint(500, 1500, size=len(rng)) #ventas contiene valores aleatorios para cada día\n",
        "})\n",
        "df_diario.set_index('fecha', inplace=True)\n",
        "\n",
        "print('--- DataFrame Original (Diario) ---')\n",
        "print(df_diario.head())\n",
        "\n",
        "# 2. Re-muestrear los datos para obtener el total de ventas mensuales\n",
        "df_mensual = df_diario.resample('M').sum() #El argumento 'M' le dice a pandas que la nueva frecuencia deseada es mensual.\n",
        "#Este comando agrupa los datos por mes, creando un objeto resampler.\n",
        "\n",
        "print('\\n--- DataFrame Re-muestreado (Mensual) ---')\n",
        "print(df_mensual)"
      ],
      "metadata": {
        "colab": {
          "base_uri": "https://localhost:8080/"
        },
        "id": "-RB3X4iSRQRX",
        "outputId": "d14b0f01-385b-448a-e790-294929b777e6"
      },
      "execution_count": 2,
      "outputs": [
        {
          "output_type": "stream",
          "name": "stdout",
          "text": [
            "--- DataFrame Original (Diario) ---\n",
            "            ventas\n",
            "fecha             \n",
            "2023-01-01     706\n",
            "2023-01-02    1008\n",
            "2023-01-03    1106\n",
            "2023-01-04     705\n",
            "2023-01-05    1439\n",
            "\n",
            "--- DataFrame Re-muestreado (Mensual) ---\n",
            "            ventas\n",
            "fecha             \n",
            "2023-01-31   31614\n",
            "2023-02-28   28576\n",
            "2023-03-31   32178\n"
          ]
        },
        {
          "output_type": "stream",
          "name": "stderr",
          "text": [
            "/tmp/ipython-input-3167948923.py:16: FutureWarning: 'M' is deprecated and will be removed in a future version, please use 'ME' instead.\n",
            "  df_mensual = df_diario.resample('M').sum()\n"
          ]
        }
      ]
    },
    {
      "cell_type": "markdown",
      "source": [
        "#Indexación y selección de datos (ejemplo)"
      ],
      "metadata": {
        "id": "jPOZPQYdS3TM"
      }
    },
    {
      "cell_type": "code",
      "source": [
        "import pandas as pd\n",
        "\n",
        "# Crear un DataFrame con un índice de fecha (febrero y marzo de 2023)\n",
        "idx_febrero = pd.date_range('2023-02-01', '2023-02-28', freq='D')\n",
        "idx_marzo = pd.date_range('2023-03-01', '2023-03-31', freq='D')\n",
        "idx = idx_febrero.union(idx_marzo)\n",
        "\n",
        "df = pd.DataFrame({'ventas': range(len(idx))}, index=idx)\n",
        "print('--- DataFrame Original ---')\n",
        "print(df.head(5))\n",
        "print(df.tail(5))\n",
        "\n",
        "# 1. Selección de un solo día\n",
        "ventas_dia_especifico = df.loc['2023-02-15']\n",
        "print('\\n--- Ventas del 15 de febrero de 2023 ---')\n",
        "print(ventas_dia_especifico)\n",
        "\n",
        "# 2. Selección de un rango de fechas\n",
        "ventas_febrero = df.loc['2023-02'] # filtra automáticamente y devuelve todas las filas que caen dentro del mes de febrero.\n",
        "print('\\n--- Ventas de todo el mes de febrero ---')\n",
        "print(ventas_febrero.tail(3))\n",
        "\n",
        "# 3. Selección de un intervalo de tiempo\n",
        "primeras_dos_semanas = df.loc['2023-03-01':'2023-03-14'] #La sintaxis de \"slice\" con df.loc['2023-03-01':'2023-03-14'] es la forma más común de seleccionar un intervalo de tiempo.\n",
        "print('\\n--- Ventas de las primeras dos semanas de marzo ---')\n",
        "print(primeras_dos_semanas)"
      ],
      "metadata": {
        "colab": {
          "base_uri": "https://localhost:8080/"
        },
        "id": "ZqKt8sAyS2Q2",
        "outputId": "b412d8e5-0550-4b32-d31e-33e4b6510d28"
      },
      "execution_count": 3,
      "outputs": [
        {
          "output_type": "stream",
          "name": "stdout",
          "text": [
            "--- DataFrame Original ---\n",
            "            ventas\n",
            "2023-02-01       0\n",
            "2023-02-02       1\n",
            "2023-02-03       2\n",
            "2023-02-04       3\n",
            "2023-02-05       4\n",
            "            ventas\n",
            "2023-03-27      54\n",
            "2023-03-28      55\n",
            "2023-03-29      56\n",
            "2023-03-30      57\n",
            "2023-03-31      58\n",
            "\n",
            "--- Ventas del 15 de febrero de 2023 ---\n",
            "ventas    14\n",
            "Name: 2023-02-15 00:00:00, dtype: int64\n",
            "\n",
            "--- Ventas de todo el mes de febrero ---\n",
            "            ventas\n",
            "2023-02-26      25\n",
            "2023-02-27      26\n",
            "2023-02-28      27\n",
            "\n",
            "--- Ventas de las primeras dos semanas de marzo ---\n",
            "            ventas\n",
            "2023-03-01      28\n",
            "2023-03-02      29\n",
            "2023-03-03      30\n",
            "2023-03-04      31\n",
            "2023-03-05      32\n",
            "2023-03-06      33\n",
            "2023-03-07      34\n",
            "2023-03-08      35\n",
            "2023-03-09      36\n",
            "2023-03-10      37\n",
            "2023-03-11      38\n",
            "2023-03-12      39\n",
            "2023-03-13      40\n",
            "2023-03-14      41\n"
          ]
        }
      ]
    },
    {
      "cell_type": "markdown",
      "source": [
        "#Operaciones aritméticas y agregaciones (ejemplo)"
      ],
      "metadata": {
        "id": "mYPFEMIBXCTo"
      }
    },
    {
      "cell_type": "code",
      "source": [
        "import pandas as pd\n",
        "import numpy as np\n",
        "\n",
        "# 1. Crear un DataFrame con datos diarios de ventas y gastos\n",
        "rng = pd.date_range('2023-01-01', periods=20, freq='D')\n",
        "df = pd.DataFrame({\n",
        "    'ventas': np.random.randint(100, 200, size=len(rng)),\n",
        "    'gastos': np.random.randint(50, 100, size=len(rng))\n",
        "}, index=rng)\n",
        "\n",
        "print('--- DataFrame Original ---')\n",
        "print(df)\n",
        "\n",
        "# 2. Calcular la ganancia diaria (operación aritmética)\n",
        "df['ganancia'] = df['ventas'] - df['gastos']\n",
        "\n",
        "print('\\n--- DataFrame con ganancia diaria ---')\n",
        "print(df)\n",
        "\n",
        "# 3. Calcular la ganancia promedio semanal (agregación)\n",
        "ganancia_promedio_semanal = df['ganancia'].resample('W').mean()\n",
        "\n",
        "print('\\n--- Ganancia Promedio Semanal ---')\n",
        "print(ganancia_promedio_semanal)"
      ],
      "metadata": {
        "colab": {
          "base_uri": "https://localhost:8080/"
        },
        "id": "QJFQiGlLXB1H",
        "outputId": "e27571d6-159b-48ca-f94e-29042f363283"
      },
      "execution_count": 4,
      "outputs": [
        {
          "output_type": "stream",
          "name": "stdout",
          "text": [
            "--- DataFrame Original ---\n",
            "            ventas  gastos\n",
            "2023-01-01     143      80\n",
            "2023-01-02     115      68\n",
            "2023-01-03     142      80\n",
            "2023-01-04     189      65\n",
            "2023-01-05     183      52\n",
            "2023-01-06     171      71\n",
            "2023-01-07     112      95\n",
            "2023-01-08     169      99\n",
            "2023-01-09     182      56\n",
            "2023-01-10     169      63\n",
            "2023-01-11     163      53\n",
            "2023-01-12     163      81\n",
            "2023-01-13     183      58\n",
            "2023-01-14     124      83\n",
            "2023-01-15     171      54\n",
            "2023-01-16     144      68\n",
            "2023-01-17     188      69\n",
            "2023-01-18     179      55\n",
            "2023-01-19     138      89\n",
            "2023-01-20     163      98\n",
            "\n",
            "--- DataFrame con ganancia diaria ---\n",
            "            ventas  gastos  ganancia\n",
            "2023-01-01     143      80        63\n",
            "2023-01-02     115      68        47\n",
            "2023-01-03     142      80        62\n",
            "2023-01-04     189      65       124\n",
            "2023-01-05     183      52       131\n",
            "2023-01-06     171      71       100\n",
            "2023-01-07     112      95        17\n",
            "2023-01-08     169      99        70\n",
            "2023-01-09     182      56       126\n",
            "2023-01-10     169      63       106\n",
            "2023-01-11     163      53       110\n",
            "2023-01-12     163      81        82\n",
            "2023-01-13     183      58       125\n",
            "2023-01-14     124      83        41\n",
            "2023-01-15     171      54       117\n",
            "2023-01-16     144      68        76\n",
            "2023-01-17     188      69       119\n",
            "2023-01-18     179      55       124\n",
            "2023-01-19     138      89        49\n",
            "2023-01-20     163      98        65\n",
            "\n",
            "--- Ganancia Promedio Semanal ---\n",
            "2023-01-01     63.000000\n",
            "2023-01-08     78.714286\n",
            "2023-01-15    101.000000\n",
            "2023-01-22     86.600000\n",
            "Freq: W-SUN, Name: ganancia, dtype: float64\n"
          ]
        }
      ]
    },
    {
      "cell_type": "markdown",
      "source": [
        "#Manejo de datos ausentes (ejemplo)\n"
      ],
      "metadata": {
        "id": "cwfQAy4yXwCX"
      }
    },
    {
      "cell_type": "code",
      "source": [
        "import pandas as pd\n",
        "import numpy as np\n",
        "\n",
        "# 1. Crear un DataFrame con datos de temperatura por hora\n",
        "# Se incluyen algunos valores nulos para simular datos faltantes\n",
        "rng = pd.date_range('2023-01-01 00:00', periods=6, freq='H')\n",
        "df = pd.DataFrame({'temperatura': [20, 21, np.nan, 22, np.nan, 23]}, index=rng)\n",
        "\n",
        "print('--- DataFrame Original con datos faltantes ---')\n",
        "print(df)\n",
        "\n",
        "# 2. Relleno hacia adelante (Forward Fill)\n",
        "# El valor nulo se llena con el último valor válido\n",
        "df_ffill = df.fillna(method='ffill')\n",
        "print('\\n--- DataFrame después de Ffill ---')\n",
        "print(df_ffill)\n",
        "\n",
        "# 3. Relleno hacia atrás (Backward Fill)\n",
        "# El valor nulo se llena con el siguiente valor válido\n",
        "df_bfill = df.fillna(method='bfill')\n",
        "print('\\n--- DataFrame después de Bfill ---')\n",
        "print(df_bfill)"
      ],
      "metadata": {
        "colab": {
          "base_uri": "https://localhost:8080/"
        },
        "id": "rUb5CzgQXvZj",
        "outputId": "d1ef29c2-7ee5-495f-91d6-e44308dfb6c1"
      },
      "execution_count": 5,
      "outputs": [
        {
          "output_type": "stream",
          "name": "stdout",
          "text": [
            "--- DataFrame Original con datos faltantes ---\n",
            "                     temperatura\n",
            "2023-01-01 00:00:00         20.0\n",
            "2023-01-01 01:00:00         21.0\n",
            "2023-01-01 02:00:00          NaN\n",
            "2023-01-01 03:00:00         22.0\n",
            "2023-01-01 04:00:00          NaN\n",
            "2023-01-01 05:00:00         23.0\n",
            "\n",
            "--- DataFrame después de Ffill ---\n",
            "                     temperatura\n",
            "2023-01-01 00:00:00         20.0\n",
            "2023-01-01 01:00:00         21.0\n",
            "2023-01-01 02:00:00         21.0\n",
            "2023-01-01 03:00:00         22.0\n",
            "2023-01-01 04:00:00         22.0\n",
            "2023-01-01 05:00:00         23.0\n",
            "\n",
            "--- DataFrame después de Bfill ---\n",
            "                     temperatura\n",
            "2023-01-01 00:00:00         20.0\n",
            "2023-01-01 01:00:00         21.0\n",
            "2023-01-01 02:00:00         22.0\n",
            "2023-01-01 03:00:00         22.0\n",
            "2023-01-01 04:00:00         23.0\n",
            "2023-01-01 05:00:00         23.0\n"
          ]
        },
        {
          "output_type": "stream",
          "name": "stderr",
          "text": [
            "/tmp/ipython-input-3320194028.py:6: FutureWarning: 'H' is deprecated and will be removed in a future version, please use 'h' instead.\n",
            "  rng = pd.date_range('2023-01-01 00:00', periods=6, freq='H')\n",
            "/tmp/ipython-input-3320194028.py:14: FutureWarning: DataFrame.fillna with 'method' is deprecated and will raise in a future version. Use obj.ffill() or obj.bfill() instead.\n",
            "  df_ffill = df.fillna(method='ffill')\n",
            "/tmp/ipython-input-3320194028.py:20: FutureWarning: DataFrame.fillna with 'method' is deprecated and will raise in a future version. Use obj.ffill() or obj.bfill() instead.\n",
            "  df_bfill = df.fillna(method='bfill')\n"
          ]
        }
      ]
    },
    {
      "cell_type": "markdown",
      "source": [
        "Practica"
      ],
      "metadata": {
        "id": "YkUyMRKNCHk4"
      }
    },
    {
      "cell_type": "code",
      "source": [
        "import pandas as pd\n",
        "import numpy as np\n",
        "\n",
        "#Convertir String a Timestamp:\n",
        "fecha = pd.to_datetime('07/09/2025', dayfirst=True) #dayfirst=True asegura de que el 07 se interprete como el día y el 09 como el mes.\n",
        "print(fecha)\n",
        "\n",
        "#Días desde el 7 de septiembre 2025 al 30 de septiembre 2025:\n",
        "fecha_con_rango = pd.date_range(start=fecha, end= '30/09/2025')\n",
        "print(fecha_con_rango)\n",
        "\n",
        "#Ocho fechas desde el 7 de septiembre 2025, con períodos:\n",
        "fecha_con_periodos = pd.date_range(start=fecha, periods=8) #La frecuencia por defecto es de un día. Por lo tanto, ocho períodos representan ocho días.\n",
        "print(fecha_con_periodos)\n",
        "\n",
        "# Ocho fechas, con una frecuencia de un mes\n",
        "fecha_con_periodos_mensuales = pd.date_range(start=fecha, periods=8, freq='M') #freq= 'M' cambia a mes, freq='W' cambia a semana,\n",
        "print(fecha_con_periodos_mensuales)"
      ],
      "metadata": {
        "colab": {
          "base_uri": "https://localhost:8080/"
        },
        "id": "69Mb4GJtCKgP",
        "outputId": "cb2a78bc-fdf3-4571-c0f0-916d28b2471a"
      },
      "execution_count": 8,
      "outputs": [
        {
          "output_type": "stream",
          "name": "stdout",
          "text": [
            "2025-09-07 00:00:00\n",
            "DatetimeIndex(['2025-09-07', '2025-09-08', '2025-09-09', '2025-09-10',\n",
            "               '2025-09-11', '2025-09-12', '2025-09-13', '2025-09-14',\n",
            "               '2025-09-15', '2025-09-16', '2025-09-17', '2025-09-18',\n",
            "               '2025-09-19', '2025-09-20', '2025-09-21', '2025-09-22',\n",
            "               '2025-09-23', '2025-09-24', '2025-09-25', '2025-09-26',\n",
            "               '2025-09-27', '2025-09-28', '2025-09-29', '2025-09-30'],\n",
            "              dtype='datetime64[ns]', freq='D')\n",
            "DatetimeIndex(['2025-09-07', '2025-09-08', '2025-09-09', '2025-09-10',\n",
            "               '2025-09-11', '2025-09-12', '2025-09-13', '2025-09-14'],\n",
            "              dtype='datetime64[ns]', freq='D')\n"
          ]
        }
      ]
    },
    {
      "cell_type": "markdown",
      "source": [
        "#Frecuencias de Tiempo: parametros para freq=\n",
        "*Horas, Minutos, Segundos y Milisegundos:*\n",
        "\n",
        "\n",
        "\n",
        "*   H: Horas\n",
        "\n",
        "\n",
        "\n",
        "*   T o min: Minutos\n",
        "\n",
        "*   S: Segundos\n",
        "\n",
        "*   L o ms: Milisegundos\n",
        "\n",
        "*   U o us: Microsegundos\n",
        "\n",
        "*   N o ns: Nanosegundos\n",
        "\n",
        "*Frecuencias de Días y Semanas*\n",
        "*   D: Días calendario.\n",
        "\n",
        "*   B: Días hábiles (de lunes a viernes).\n",
        "\n",
        "*   W: Semanal. Puedes especificar el día de la semana, por ejemplo, W-MON para semanas que terminan los lunes.\n",
        "\n",
        "*Frecuencias de Meses y Trimestres*\n",
        "*   M: Fin de mes calendario.\n",
        "\n",
        "*   BM: Fin de mes hábil.\n",
        "\n",
        "*   MS: Inicio de mes calendario.\n",
        "\n",
        "*   BMS: Inicio de mes hábil.\n",
        "\n",
        "*   Q: Fin de trimestre calendario. Puedes especificar el mes de finalización, por ejemplo, Q-DEC para trimestres que terminan en diciembre.\n",
        "\n",
        "*   QS: Inicio de trimestre calendario.\n",
        "\n",
        "*Frecuencias de Años*\n",
        "*   A: Fin de año calendario.\n",
        "\n",
        "*   AS: Inicio de año calendario.\n",
        "\n",
        "*   BA: Fin de año hábil.\n",
        "\n",
        "*Uso de Múltiplos*\n",
        "Puedes combinar los códigos con un número para especificar un múltiplo, por ejemplo:\n",
        "\n",
        "*   7D: Siete días.\n",
        "\n",
        "*   2W: Cada dos semanas.\n",
        "\n",
        "*   3M: Cada tres meses."
      ],
      "metadata": {
        "id": "UEbOXbTNGiss"
      }
    },
    {
      "cell_type": "markdown",
      "source": [
        "Mas ejemplos:"
      ],
      "metadata": {
        "id": "vNRa3egJH_NK"
      }
    },
    {
      "cell_type": "code",
      "source": [
        "#Ocho meses consecutivos, a partir del mes de inicio:\n",
        "mes_inicio= '2025/03'\n",
        "ocho_meses_consecutivos = pd.date_range(start=mes_inicio, periods=8, freq= 'MS') #MS: Inicio de mes calendario.\n",
        "print(ocho_meses_consecutivos)"
      ],
      "metadata": {
        "colab": {
          "base_uri": "https://localhost:8080/"
        },
        "id": "KdTVU6f8HOpm",
        "outputId": "ae5a2aef-c845-4294-a5ba-bf791e5cb3ea"
      },
      "execution_count": 15,
      "outputs": [
        {
          "output_type": "stream",
          "name": "stdout",
          "text": [
            "DatetimeIndex(['2025-03-01', '2025-04-01', '2025-05-01', '2025-06-01',\n",
            "               '2025-07-01', '2025-08-01', '2025-09-01', '2025-10-01'],\n",
            "              dtype='datetime64[ns]', freq='MS')\n"
          ]
        }
      ]
    },
    {
      "cell_type": "markdown",
      "source": [
        "#Operando objetos de tiempo"
      ],
      "metadata": {
        "id": "SFSIqhTEJj8a"
      }
    },
    {
      "cell_type": "code",
      "source": [
        "#¿Cuánto tiempo pasó desde el primer periodo al último?\n",
        "cuanto= fecha_con_periodos[6]-fecha_con_periodos[2]\n",
        "print(cuanto)\n",
        "\n",
        "#Cuántos meses pasaron desde el primer periodo al último?\n",
        "fecha_1= pd.to_datetime('01/01/2020', dayfirst=True)\n",
        "fecha_2= pd.to_datetime('31/12/2025', dayfirst=True)\n",
        "\n",
        "cuantos_meses = fecha_2.to_period('M')- fecha_1.to_period('M') #: Este método convierte el objeto Timestamp de fecha_1 en un objeto Period\n",
        "                                                              #devuelve un objeto PeriodIndex que contiene la diferencia de meses.\n",
        "print(f\"Han pasado {cuantos_meses.n} meses.\") #el atributo .n del objeto PeriodIndex te da el número entero de meses que han transcurrido, que en este caso es 71.\n",
        "\n",
        "\n"
      ],
      "metadata": {
        "colab": {
          "base_uri": "https://localhost:8080/"
        },
        "id": "-C8B38_sJl_K",
        "outputId": "4b6e1ca7-c8f3-4c39-c76b-00e846bfe9a7"
      },
      "execution_count": 21,
      "outputs": [
        {
          "output_type": "stream",
          "name": "stdout",
          "text": [
            "4 days 00:00:00\n",
            "Han pasado 71 meses.\n"
          ]
        }
      ]
    }
  ]
}